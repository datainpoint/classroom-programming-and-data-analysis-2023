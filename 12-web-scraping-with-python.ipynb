{
 "cells": [
  {
   "cell_type": "markdown",
   "metadata": {
    "slideshow": {
     "slide_type": "slide"
    }
   },
   "source": [
    "# Programming and Data Analysis\n",
    "\n",
    "> Web Scraping with Python\n",
    "\n",
    "Kuo, Yao-Jen <yaojenkuo@ntu.edu.tw> from [DATAINPOINT](https://www.datainpoint.com/)"
   ]
  },
  {
   "cell_type": "code",
   "execution_count": 1,
   "metadata": {
    "slideshow": {
     "slide_type": "subslide"
    }
   },
   "outputs": [],
   "source": [
    "import requests\n",
    "import json\n",
    "import re\n",
    "import xml.etree.ElementTree as ET\n",
    "from bs4 import BeautifulSoup"
   ]
  },
  {
   "cell_type": "markdown",
   "metadata": {
    "slideshow": {
     "slide_type": "slide"
    }
   },
   "source": [
    "## About web scraping"
   ]
  },
  {
   "cell_type": "markdown",
   "metadata": {
    "slideshow": {
     "slide_type": "subslide"
    }
   },
   "source": [
    "## What is web scraping?\n",
    "\n",
    "> Web scraping is extracting data directly from World Wide Web directly using the Hypertext Transfer Protocol(HTTP). While web scraping can be done manually by a human(via a browser.) The term typically refers to automated processes implemented using a bot or web crawler. It is a form of copying, in which specific data is gathered and copied from the web, typically into a central local database or spreadsheet, for later retrieval or analysis.\n",
    "\n",
    "Source: <https://en.wikipedia.org/wiki/Web_scraping>"
   ]
  },
  {
   "cell_type": "markdown",
   "metadata": {
    "slideshow": {
     "slide_type": "subslide"
    }
   },
   "source": [
    "## Core missions involved in web scraping\n",
    "\n",
    "- Transferring data.\n",
    "- Parsing data."
   ]
  },
  {
   "cell_type": "markdown",
   "metadata": {
    "slideshow": {
     "slide_type": "subslide"
    }
   },
   "source": [
    "## What is transferring data?\n",
    "\n",
    "Trasferring data is the underlying network protocol between a browser(or a web scraping script) and a server that enables exchange of hypermedia documents on the Web. The technical term for transferring data is the **HyperText Transfer Protocol (HTTP)**."
   ]
  },
  {
   "cell_type": "markdown",
   "metadata": {
    "slideshow": {
     "slide_type": "subslide"
    }
   },
   "source": [
    "## 2 ways involved in transferring data\n",
    "\n",
    "1. To a server: requesting data.\n",
    "2. From a server: responding data."
   ]
  },
  {
   "cell_type": "markdown",
   "metadata": {
    "slideshow": {
     "slide_type": "subslide"
    }
   },
   "source": [
    "## Types of HTTP request methods to a server involved in web scraping\n",
    "\n",
    "- GET method.\n",
    "- POST method.\n",
    "\n",
    "Source: <https://developer.mozilla.org/en-US/docs/Web/HTTP/Methods>"
   ]
  },
  {
   "cell_type": "markdown",
   "metadata": {
    "slideshow": {
     "slide_type": "subslide"
    }
   },
   "source": [
    "## What is a GET method\n",
    "\n",
    "> The GET method requests a representation of the specified resource, e.g. reading a blog post."
   ]
  },
  {
   "cell_type": "markdown",
   "metadata": {
    "slideshow": {
     "slide_type": "subslide"
    }
   },
   "source": [
    "## What is a POST method\n",
    "\n",
    "> The POST method is used to submit an entity to the specified resource, often causing a change in state or side effects on the server, e.g. writing a blog post."
   ]
  },
  {
   "cell_type": "markdown",
   "metadata": {
    "slideshow": {
     "slide_type": "subslide"
    }
   },
   "source": [
    "## To transfer data between browser and server looks simple and straight-forward\n",
    "\n",
    "- We enter a Uniform Resource Locator(URL).\n",
    "- We fill a form then submit.\n",
    "- We interact with abundant user-interface components.\n",
    "- ...etc."
   ]
  },
  {
   "cell_type": "markdown",
   "metadata": {
    "slideshow": {
     "slide_type": "slide"
    }
   },
   "source": [
    "## Developer tools"
   ]
  },
  {
   "cell_type": "markdown",
   "metadata": {
    "slideshow": {
     "slide_type": "subslide"
    }
   },
   "source": [
    "## We can actually see the process of transferring data via the developer tools of a browser\n",
    "\n",
    "A set of web developer tools built directly into the browser. It can help us edit pages on-the-fly and diagnose problems quickly, which ultimately helps us build better websites, faster."
   ]
  },
  {
   "cell_type": "markdown",
   "metadata": {
    "slideshow": {
     "slide_type": "subslide"
    }
   },
   "source": [
    "![Imgur](https://i.imgur.com/3Synk8m.png?1)"
   ]
  },
  {
   "cell_type": "markdown",
   "metadata": {
    "slideshow": {
     "slide_type": "subslide"
    }
   },
   "source": [
    "## We use Network to see the details of data transfer\n",
    "\n",
    "1. Open Developer Tools.\n",
    "2. Click Network.\n",
    "3. Refresh website."
   ]
  },
  {
   "cell_type": "markdown",
   "metadata": {
    "slideshow": {
     "slide_type": "subslide"
    }
   },
   "source": [
    "![Imgur](https://i.imgur.com/OG0Huwj.png?1)"
   ]
  },
  {
   "cell_type": "markdown",
   "metadata": {
    "slideshow": {
     "slide_type": "subslide"
    }
   },
   "source": [
    "## Each data(file) is a complete process of request and response\n",
    "\n",
    "- Request\n",
    "    - Headers\n",
    "    - Method\n",
    "- Response\n",
    "    - Body"
   ]
  },
  {
   "cell_type": "markdown",
   "metadata": {
    "slideshow": {
     "slide_type": "subslide"
    }
   },
   "source": [
    "## A lot of data transferring during web page rendering\n",
    "\n",
    "- **XHR(XMLHttpRequest)**\n",
    "- JS\n",
    "- CSS\n",
    "- Img\n",
    "- Media\n",
    "- Font\n",
    "- **Doc(HTML documents)**\n",
    "- WS\n",
    "- Manifest\n",
    "- Other"
   ]
  },
  {
   "cell_type": "markdown",
   "metadata": {
    "slideshow": {
     "slide_type": "subslide"
    }
   },
   "source": [
    "## Check which file contains the data we want to scrape\n",
    "\n",
    "- Preview(Response body rendered in browser)\n",
    "- Response(body)"
   ]
  },
  {
   "cell_type": "markdown",
   "metadata": {
    "slideshow": {
     "slide_type": "subslide"
    }
   },
   "source": [
    "## Let's see how it works\n",
    "\n",
    "- <https://ecshweb.pchome.com.tw/search/v3.3>: Check **XHR**.\n",
    "- <https://emap.pcsc.com.tw>: Check **XHR**.\n",
    "- <https://www.imdb.com/chart/top>: Check **Doc**."
   ]
  },
  {
   "cell_type": "markdown",
   "metadata": {
    "slideshow": {
     "slide_type": "subslide"
    }
   },
   "source": [
    "## Once we've found what we need, check its details\n",
    "\n",
    "- Headers\n",
    "    - General\n",
    "        - Request URL\n",
    "        - Request Method\n",
    "    - Request Headers\n",
    "    - Query String Parameters(if any)\n",
    "    - Form Data(if any)"
   ]
  },
  {
   "cell_type": "markdown",
   "metadata": {
    "slideshow": {
     "slide_type": "subslide"
    }
   },
   "source": [
    "## But how do we transfer data between Python and server?\n",
    "\n",
    "We use a third-party library called [Requests](https://requests.readthedocs.io/en/master/)."
   ]
  },
  {
   "cell_type": "markdown",
   "metadata": {
    "slideshow": {
     "slide_type": "slide"
    }
   },
   "source": [
    "## Requests"
   ]
  },
  {
   "cell_type": "markdown",
   "metadata": {
    "slideshow": {
     "slide_type": "subslide"
    }
   },
   "source": [
    "## What is Requests?\n",
    "\n",
    "> Requests is an elegant and simple HTTP library for Python, built for human being.\n",
    "\n",
    "Source: <https://requests.readthedocs.io/en/master>"
   ]
  },
  {
   "cell_type": "code",
   "execution_count": 2,
   "metadata": {},
   "outputs": [],
   "source": [
    "import requests"
   ]
  },
  {
   "cell_type": "markdown",
   "metadata": {
    "slideshow": {
     "slide_type": "subslide"
    }
   },
   "source": [
    "## If Requests is not installed, we will encounter a `ModuleNotFoundError`\n",
    "\n",
    "```\n",
    "Traceback (most recent call last):\n",
    "  File \"<stdin>\", line 1, in <module>\n",
    "ModuleNotFoundError: No module named 'requests'\n",
    "```"
   ]
  },
  {
   "cell_type": "markdown",
   "metadata": {
    "slideshow": {
     "slide_type": "subslide"
    }
   },
   "source": [
    "## Use `pip install` at Terminal to install Requests\n",
    "\n",
    "```bash\n",
    "pip install requests\n",
    "```"
   ]
  },
  {
   "cell_type": "markdown",
   "metadata": {
    "slideshow": {
     "slide_type": "subslide"
    }
   },
   "source": [
    "## Check version and its installation file path\n",
    "\n",
    "- `__version__` attribute\n",
    "- `__file__` attribute"
   ]
  },
  {
   "cell_type": "code",
   "execution_count": 3,
   "metadata": {},
   "outputs": [
    {
     "name": "stdout",
     "output_type": "stream",
     "text": [
      "2.29.0\n",
      "/Users/kuoyaojen/miniconda3/lib/python3.11/site-packages/requests/__init__.py\n"
     ]
    }
   ],
   "source": [
    "print(requests.__version__)\n",
    "print(requests.__file__)"
   ]
  },
  {
   "cell_type": "markdown",
   "metadata": {
    "slideshow": {
     "slide_type": "subslide"
    }
   },
   "source": [
    "## Requesting data with functions\n",
    "\n",
    "- `requests.get(request_url)`: Make a request with GET method.\n",
    "- `requests.post(request_url)`: Make a request with POST method."
   ]
  },
  {
   "cell_type": "markdown",
   "metadata": {
    "slideshow": {
     "slide_type": "subslide"
    }
   },
   "source": [
    "## Sending requests with key-word arguments\n",
    "\n",
    "- `params=query_string_parameters`\n",
    "- `data=form_data`\n",
    "- `headers=request_headers`"
   ]
  },
  {
   "cell_type": "code",
   "execution_count": 4,
   "metadata": {
    "slideshow": {
     "slide_type": "subslide"
    }
   },
   "outputs": [],
   "source": [
    "request_url = \"https://ecshweb.pchome.com.tw/search/v3.3/all/results\"\n",
    "query_string_parameters = {\n",
    "    'q': 'macbook',\n",
    "    'page': 1,\n",
    "    'sort': 'rnk/dc'\n",
    "}\n",
    "response = requests.get(request_url, params=query_string_parameters)"
   ]
  },
  {
   "cell_type": "code",
   "execution_count": 5,
   "metadata": {
    "slideshow": {
     "slide_type": "subslide"
    }
   },
   "outputs": [],
   "source": [
    "request_url = \"https://emap.pcsc.com.tw/EMapSDK.aspx\"\n",
    "form_data = {\n",
    "    'commandid': 'SearchStore',\n",
    "    'city': '台北市',\n",
    "    'town': '大安區'\n",
    "}\n",
    "response = requests.post(request_url, data=form_data)"
   ]
  },
  {
   "cell_type": "code",
   "execution_count": 6,
   "metadata": {
    "slideshow": {
     "slide_type": "subslide"
    }
   },
   "outputs": [],
   "source": [
    "request_url = \"https://www.imdb.com/chart/top\"\n",
    "request_headers = {\n",
    "    \"accept-language\": \"en-US,en;q=1.0\"\n",
    "}\n",
    "response = requests.get(request_url, headers=request_headers)"
   ]
  },
  {
   "cell_type": "markdown",
   "metadata": {
    "slideshow": {
     "slide_type": "subslide"
    }
   },
   "source": [
    "## Common attributes and methods to use on `Response` type\n",
    "\n",
    "- `status_code` attribute to validate HTTP response status codes.\n",
    "- `text` attribute to extract the response content as a Python `str`.\n",
    "- `json()` method to parse a JSON format and convert to a Python data structure."
   ]
  },
  {
   "cell_type": "markdown",
   "metadata": {
    "slideshow": {
     "slide_type": "subslide"
    }
   },
   "source": [
    "## Next step: parsing data accordingly\n",
    "\n",
    "- JSON format: call `response.json()` method to generate a Python data structure.\n",
    "- XML format: use a parser to convert `response.text` to an `Element` class.\n",
    "- HTML format: use a parser to convert `response.text` to a `BeautifulSoup` class."
   ]
  },
  {
   "cell_type": "markdown",
   "metadata": {
    "slideshow": {
     "slide_type": "slide"
    }
   },
   "source": [
    "## JSON format"
   ]
  },
  {
   "cell_type": "markdown",
   "metadata": {
    "slideshow": {
     "slide_type": "subslide"
    }
   },
   "source": [
    "## What is JSON?\n",
    "\n",
    "> JavaScript Object Notation (JSON) is a standard text-based format for representing structured data based on JavaScript object syntax. It is commonly used for transmitting data in web applications (e.g., sending some data from the server to the client's browser, so it can be displayed on a web page, or vice versa).\n",
    "\n",
    "Source: [mozilla.org](https://developer.mozilla.org/en-US/docs/Learn/JavaScript/Objects/JSON)"
   ]
  },
  {
   "cell_type": "markdown",
   "metadata": {
    "slideshow": {
     "slide_type": "subslide"
    }
   },
   "source": [
    "## How to validate if a response belongs to JSON format?\n",
    "\n",
    "- Looking into Preview(Response body rendered in browser).\n",
    "- Looking into Response(body)."
   ]
  },
  {
   "cell_type": "markdown",
   "metadata": {
    "slideshow": {
     "slide_type": "subslide"
    }
   },
   "source": [
    "## JSON exists as a string\n",
    "\n",
    "- Key-Value Storage layout, quite similar to a Python `dict`.\n",
    "- Array layout, quite similar to a Python `list`."
   ]
  },
  {
   "cell_type": "markdown",
   "metadata": {
    "slideshow": {
     "slide_type": "subslide"
    }
   },
   "source": [
    "## Let's see how a JSON format looks like\n",
    "\n",
    "<https://ecshweb.pchome.com.tw/search/v3.3>: Check **XHR**."
   ]
  },
  {
   "cell_type": "code",
   "execution_count": 7,
   "metadata": {
    "slideshow": {
     "slide_type": "-"
    }
   },
   "outputs": [],
   "source": [
    "request_url = \"https://ecshweb.pchome.com.tw/search/v3.3/all/results\"\n",
    "query_str_params = {\n",
    "    'q': 'macbook',\n",
    "    'page': 1,\n",
    "    'sort': 'rnk/dc'\n",
    "}\n",
    "response = requests.get(request_url, params=query_str_params)"
   ]
  },
  {
   "cell_type": "markdown",
   "metadata": {
    "slideshow": {
     "slide_type": "subslide"
    }
   },
   "source": [
    "## Calling the `json` method of `Response` to get the parsed structure"
   ]
  },
  {
   "cell_type": "code",
   "execution_count": 8,
   "metadata": {},
   "outputs": [
    {
     "name": "stdout",
     "output_type": "stream",
     "text": [
      "<class 'dict'>\n",
      "dict_keys(['QTime', 'totalRows', 'totalPage', 'range', 'cateName', 'q', 'subq', 'token', 'isMust', 'prods'])\n"
     ]
    }
   ],
   "source": [
    "json_format = response.json()\n",
    "print(type(json_format))\n",
    "print(json_format.keys())"
   ]
  },
  {
   "cell_type": "markdown",
   "metadata": {
    "slideshow": {
     "slide_type": "subslide"
    }
   },
   "source": [
    "## In fact, the `json` method of `Response` is actually calling the `loads` function from standard library `json`"
   ]
  },
  {
   "cell_type": "code",
   "execution_count": 9,
   "metadata": {},
   "outputs": [
    {
     "name": "stdout",
     "output_type": "stream",
     "text": [
      "<class 'dict'>\n",
      "dict_keys(['QTime', 'totalRows', 'totalPage', 'range', 'cateName', 'q', 'subq', 'token', 'isMust', 'prods'])\n"
     ]
    }
   ],
   "source": [
    "json_format = json.loads(response.text)\n",
    "print(type(json_format))\n",
    "print(json_format.keys())"
   ]
  },
  {
   "cell_type": "markdown",
   "metadata": {
    "slideshow": {
     "slide_type": "subslide"
    }
   },
   "source": [
    "## JSON could also exist as an array layout"
   ]
  },
  {
   "cell_type": "code",
   "execution_count": 10,
   "metadata": {},
   "outputs": [
    {
     "name": "stdout",
     "output_type": "stream",
     "text": [
      "<class 'list'>\n",
      "20\n"
     ]
    }
   ],
   "source": [
    "print(type(json_format['prods']))\n",
    "print(len(json_format['prods']))"
   ]
  },
  {
   "cell_type": "markdown",
   "metadata": {
    "slideshow": {
     "slide_type": "slide"
    }
   },
   "source": [
    "## XML format"
   ]
  },
  {
   "cell_type": "markdown",
   "metadata": {
    "slideshow": {
     "slide_type": "subslide"
    }
   },
   "source": [
    "## What is XML?\n",
    "\n",
    "> XML (Extensible Markup Language) is a markup language without predefined tags to use. Instead, we define our own tags for our needs. This is a powerful way to store data in a format that can be stored, searched, and shared.\n",
    "\n",
    "Source: <https://developer.mozilla.org/en-US/docs/Web/XML>"
   ]
  },
  {
   "cell_type": "markdown",
   "metadata": {
    "slideshow": {
     "slide_type": "subslide"
    }
   },
   "source": [
    "## How to validate if a response belongs to XML format?\n",
    "\n",
    "Looking into Response(body) and check if there is a XML format being declared."
   ]
  },
  {
   "cell_type": "markdown",
   "metadata": {
    "slideshow": {
     "slide_type": "subslide"
    }
   },
   "source": [
    "## XML exists as a string\n",
    "\n",
    "Self-defined tags with a hierarchical tree layout."
   ]
  },
  {
   "cell_type": "markdown",
   "metadata": {
    "slideshow": {
     "slide_type": "subslide"
    }
   },
   "source": [
    "## Let's see how a XML format looks like\n",
    "\n",
    "<https://emap.pcsc.com.tw/EMapSDK.aspx>: Check **XHR**."
   ]
  },
  {
   "cell_type": "code",
   "execution_count": 11,
   "metadata": {},
   "outputs": [],
   "source": [
    "request_url = \"https://emap.pcsc.com.tw/EMapSDK.aspx\"\n",
    "form_data = {\n",
    "    'commandid': 'SearchStore',\n",
    "    'city': '台北市',\n",
    "    'town': '大安區'\n",
    "}\n",
    "response = requests.post(request_url, data=form_data)"
   ]
  },
  {
   "cell_type": "markdown",
   "metadata": {
    "slideshow": {
     "slide_type": "subslide"
    }
   },
   "source": [
    "## Use the `fromstring()` function from `ET` to get the parsed structure"
   ]
  },
  {
   "cell_type": "code",
   "execution_count": 12,
   "metadata": {},
   "outputs": [
    {
     "name": "stdout",
     "output_type": "stream",
     "text": [
      "<class 'xml.etree.ElementTree.Element'>\n"
     ]
    }
   ],
   "source": [
    "root = ET.fromstring(response.text)\n",
    "print(type(root))"
   ]
  },
  {
   "cell_type": "markdown",
   "metadata": {
    "slideshow": {
     "slide_type": "subslide"
    }
   },
   "source": [
    "## Use XPath to extract data from specific tags\n",
    "\n",
    "> XPath stands for XML Path Language. It provides a flexible way of addressing (pointing to) different parts of an XML document.\n",
    "\n",
    "Source: <https://developer.mozilla.org/en-US/docs/Web/XPath>"
   ]
  },
  {
   "cell_type": "markdown",
   "metadata": {
    "slideshow": {
     "slide_type": "subslide"
    }
   },
   "source": [
    "## How to specify a XPath\n",
    "\n",
    "<https://www.w3schools.com/xml/xpath_syntax.asp>"
   ]
  },
  {
   "cell_type": "code",
   "execution_count": 13,
   "metadata": {
    "slideshow": {
     "slide_type": "subslide"
    }
   },
   "outputs": [
    {
     "name": "stdout",
     "output_type": "stream",
     "text": [
      "['大台', '大信', '大敦', '中廣', '仁安', '仁愛醫', '仕吉', '台科一', '永康', '禾光', '立仁', '光忠', '吉忠', '合旺', '合維', '合億', '安居', '安松', '佑安', '技安', '辛亥', '卓聯', '和平東', '和安', '和金', '和泰', '和樂', '和鑫', '延仁', '延吉', '昇隆', '東門', '欣安和', '欣隆昌', '空指部', '花市', '金信', '金華', '長星', '阿波羅', '信中', '信仁', '信安', '信義', '信興', '建安', '建忠', '建南', '建綸', '恆安', '科技站', '科建', '科興', '師大', '泰利', '國館', '崇光', '康福', '統合', '統家', '統領', '通化', '頂好', '頂安', '頂東', '喜悅', '富陽', '復忠', '復昌', '復維', '敦仁', '敦禾', '敦安', '敦信', '敦南', '敦頂', '敦維', '敦親', '森美', '華電', '圓金', '愛國', '新北科', '新東帝', '新泰順', '新國聯', '溫州', '溫東', '瑞升', '瑞安', '義村', '誠安', '福亭', '鳳翔', '樂安', '樂利', '樂和', '樂隆', '黎元', '豫銘', '錢忠', '靜安', '龍和', '龍延', '龍門', '龍泉', '龍淵', '龍普', '濟南', '臨江', '臨通', '豐安', '懷生', '羅鑫', '麟光', '鑫忠孝', '鑫泰', '鑫通', '鑫富民', '鑫復']\n"
     ]
    }
   ],
   "source": [
    "# The XPath for POIName\n",
    "poinames = [e.text for e in root.findall('.//POIName')]\n",
    "print(poinames)"
   ]
  },
  {
   "cell_type": "code",
   "execution_count": 14,
   "metadata": {
    "slideshow": {
     "slide_type": "subslide"
    }
   },
   "outputs": [
    {
     "name": "stdout",
     "output_type": "stream",
     "text": [
      "['台北市大安區羅斯福路三段333巷18號1樓20號1樓(部分)', '台北市大安區信義路三段33號', '台北市大安區敦化南路二段63巷7號1樓', '台北市大安區仁愛路三段25-1號27號', '台北市大安區仁愛路四段27巷1號', '台北市大安區復興南路一段253巷52號1樓', '台北市大安區忠孝東路四段223巷42號', '台北市大安區基隆路四段43號1樓', '台北市大安區永康街43號', '台北市大安區和平東路二段63號1樓', '台北市大安區安和路二段74巷1號', '台北市大安區復興南路一段107巷5弄1號1樓', '台北市大安區延吉街72號', '台北市大安區復興南路二段151巷41號1樓', '台北市大安區四維路170巷8號1樓', '台北市大安區和平東路三段1巷51號1樓', '台北市大安區安居街33號', '台北市大安區安東街50之2號50之3號50之4號', '台北市大安區忠孝東路三段217巷1弄2號', '台北市大安區和平東路三段97號97之1號1樓', '台北市大安區辛亥路二段57號', '台北市大安區羅斯福路四段1號1樓卓聯大樓', '台北市大安區和平東路一段129之1號', '台北市大安區和平東路三段230號', '台北市大安區和平東路一段91號', '台北市大安區和平東路一段169號', '台北市大安區和平東路三段228巷45號1樓', '台北市大安區和平東路三段38號1樓', '台北市大安區延吉街175號1樓', '台北市大安區延吉街237號', '台北市大安區敦化南路二段238號', '台北市大安區信義路二段198巷6號1樓', '台北市大安區安和路一段47號', '台北市大安區基隆路二段142之1號及142之2號', '台北市大安區羅斯福路4段113巷29號(空軍指揮作戰部)', '台北市大安區建國南路一段274號', '台北市大安區金山南路二段18號1樓', '台北市大安區金華街140號1樓', '台北市大安區基隆路三段85號', '台北市大安區忠孝東路四段222號224號1樓', '台北市大安區信義路三段99號1樓', '台北市大安區仁愛路三段143巷8號', '台北市大安區大安路一段218號', '台北市大安區信義路四段265巷12弄1號', '台北市大安區信義路四段32號', '台北市大安區敦化南路一段187巷29號', '台北市大安區忠孝東路三段249號', '台北市大安區建國南路二段151巷6之8號', '台北市大安區仁愛路四段151巷33號忠孝東路四段216巷32弄19號21號', '台北市大安區永康街2巷12號1樓', '台北市大安區復興南路二段203號', '台北市大安區建國南路一段28號30號', '台北市大安區復興南路二段271巷2號1樓', '台北市大安區師大路87號', '台北市大安區仁愛路四段266巷15弄22號', '台北市大安區光復南路240巷25號', '台北市大安區復興南路一段135巷5號', '台北市大安區永康街12之2號1樓', '台北市大安區忠孝東路四段181巷7弄11之1號11之2號', '台北市大安區忠孝東路四段216巷27弄1號1樓', '台北市大安區忠孝東路四段223巷9號1樓', '台北市大安區通化街26之8號', '台北市大安區仁愛路四段79號1號', '台北市大安區大安路一段67號1樓', '台北市大安區大安路一段43號', '台北市大安區復興南路二段82-1及82-2號', '台北市大安區和平東路三段298號300號1樓', '台北市大安區光復南路98之3號98之5號', '台北市大安區通化里光復南路616號', '台北市大安區復興南路二段17號', '台北市大安區忠孝東路四段148號部份', '台北市大安區敦化南路二段265巷6號1樓', '台北市大安區安和路一段86號', '台北市大安區仁愛路四段122巷50號1樓', '台北市大安區大安路一段83巷14號1樓', '台北市大安區敦化南路一段190巷10號1樓', '台北市大安區東豐街43號45號1樓', '台北市大安區辛亥路二段171巷8號', '台北市大安區信義路三段65號1樓', '台北市大安區通化街177號', '台北市大安區仁愛路四段112巷7號7號之1', '台北市大安區愛國東路75號', '台北市大安區新生南路一段3號B1樓', '台北市大安區敦化南路二段99號1樓', '台北市大安區泰順街13號', '台北市大安區光復南路180巷12號', '台北市大安區羅斯福路三段245號', '台北市大安區和平東路一段266號', '台北市大安區杭州南路二段91號', '台北市大安區瑞安街182號', '台北市大安區忠孝東路三段160號', '台北市大安區敦化南路一段247巷12號1樓', '台北市大安區羅斯福路二段31號1樓', '台北市大安區忠孝東路四段216巷68號', '台北市大安區樂業街71號73號', '台北市大安區樂利路76號78號1樓', '台北市大安區樂利路29號29-1號', '台北市大安區敦化南路二段331巷14號', '台北市大安區辛亥路三段157巷32號1樓臥龍街188巷1號1樓', '台北市大安區大安路二段102號', '台北市大安區忠孝東路四段26巷5號', '台北市大安區光復南路262號', '台北市大安區和平東路二段197號199號1樓', '台北市大安區師大路59巷13號', '台北市大安區和平東路二段38之1號40號1樓', '台北市大安區羅斯福路三段193號1樓', '台北市大安區和平東路二段118巷33號', '台北市大安區敦化南路一段233巷25號', '台北市大安區濟南路三段12號1樓', '台北市大安區安和路二段67號', '台北市大安區通安街64號1樓', '台北市大安區東豐街9號', '台北市大安區忠孝東路三段248巷9號', '台北市大安區羅斯福路三段29號31號1樓', '台北市大安區臥龍街252號及252之1號', '台北市大安區忠孝東路四段313號1樓', '台北市大安區泰順街60巷9號11號', '台北市大安區信義路四段294巷7號1樓', '台北市大安區忠孝東路四段181巷40弄22號1樓', '台北市大安區信義路三段178號1樓']\n"
     ]
    }
   ],
   "source": [
    "# The XPath for Address\n",
    "addresses = [e.text for e in root.findall('.//Address')]\n",
    "print(addresses)"
   ]
  },
  {
   "cell_type": "code",
   "execution_count": 15,
   "metadata": {
    "slideshow": {
     "slide_type": "subslide"
    }
   },
   "outputs": [
    {
     "name": "stdout",
     "output_type": "stream",
     "text": [
      "['02廁所,03ATM,04座位區,05ibon WiFi,12行動電源租賃,09OPEN! PLAZA專櫃,19ibon,22現蒸地瓜,31博客來,36精品咖啡,37天素地蔬,38嚴選素材冷凍鮮物,39原賞熱壓土司,66冷凍交貨便,33OPEN iECO循環杯,78拋棄式隱形眼鏡', '02廁所,03ATM,04座位區,05ibon WiFi,12行動電源租賃,16美妝,15Mister Donut甜甜圈,19ibon,21現萃茶,22現蒸地瓜,36精品咖啡,37天素地蔬,39原賞熱壓土司,66冷凍交貨便,78拋棄式隱形眼鏡', '03ATM,04座位區,05ibon WiFi,12行動電源租賃,19ibon,21現萃茶,22現蒸地瓜,31博客來,36精品咖啡,39原賞熱壓土司,66冷凍交貨便,78拋棄式隱形眼鏡', '03ATM,04座位區,05ibon WiFi,12行動電源租賃,13台塑有機蔬菜,19ibon,36精品咖啡,37天素地蔬,66冷凍交貨便', '03ATM,04座位區,05ibon WiFi,07OPEN! STORE,11千禧血壓站,12行動電源租賃,19ibon,21現萃茶,22現蒸地瓜,25OPEN!兒童閱覽室,36精品咖啡,37天素地蔬,66冷凍交貨便,34CITY系列熱燕麥飲', '03ATM,04座位區,12行動電源租賃,09OPEN! PLAZA專櫃,19ibon,22現蒸地瓜,31博客來,36精品咖啡,39原賞熱壓土司,66冷凍交貨便,08寵物生活專區,33OPEN iECO循環杯', '03ATM,04座位區,05ibon WiFi,12行動電源租賃,19ibon,22現蒸地瓜,36精品咖啡,66冷凍交貨便', '03ATM,04座位區,12行動電源租賃,15Mister Donut甜甜圈,19ibon,22現蒸地瓜,36精品咖啡,37天素地蔬,66冷凍交貨便,34CITY系列熱燕麥飲,33OPEN iECO循環杯,78拋棄式隱形眼鏡', '03ATM,05ibon WiFi,12行動電源租賃,19ibon,22現蒸地瓜,36精品咖啡,39原賞熱壓土司,66冷凍交貨便,33OPEN iECO循環杯', '03ATM,05ibon WiFi,12行動電源租賃,19ibon,21現萃茶,22現蒸地瓜,36精品咖啡,39原賞熱壓土司,66冷凍交貨便,78拋棄式隱形眼鏡', '03ATM,05ibon WiFi,12行動電源租賃,19ibon,36精品咖啡,39原賞熱壓土司,66冷凍交貨便,34CITY系列熱燕麥飲,33OPEN iECO循環杯', '03ATM,04座位區,12行動電源租賃,22現蒸地瓜,36精品咖啡,66冷凍交貨便,33OPEN iECO循環杯', '03ATM,04座位區,05ibon WiFi,12行動電源租賃,19ibon,21現萃茶,22現蒸地瓜,36精品咖啡,39原賞熱壓土司,66冷凍交貨便,34CITY系列熱燕麥飲,78拋棄式隱形眼鏡', '03ATM,05ibon WiFi,12行動電源租賃,19ibon,22現蒸地瓜,36精品咖啡,66冷凍交貨便,08寵物生活專區,78拋棄式隱形眼鏡', '02廁所,03ATM,04座位區,05ibon WiFi,12行動電源租賃,06思樂冰,13台塑有機蔬菜,19ibon,21現萃茶,22現蒸地瓜,36精品咖啡,37天素地蔬,39原賞熱壓土司,66冷凍交貨便,08寵物生活專區,34CITY系列熱燕麥飲,78拋棄式隱形眼鏡', '03ATM,04座位區,11千禧血壓站,12行動電源租賃,19ibon,22現蒸地瓜,31博客來,36精品咖啡,37天素地蔬,39原賞熱壓土司,66冷凍交貨便,18高效智慧回收機,33OPEN iECO循環杯,78拋棄式隱形眼鏡', '02廁所,03ATM,04座位區,05ibon WiFi,12行動電源租賃,09OPEN! PLAZA專櫃,19ibon,21現萃茶,22現蒸地瓜,31博客來,36精品咖啡,37天素地蔬,66冷凍交貨便,78拋棄式隱形眼鏡', '02廁所,03ATM,04座位區,12行動電源租賃,13台塑有機蔬菜,19ibon,22現蒸地瓜,36精品咖啡,66冷凍交貨便,08寵物生活專區,34CITY系列熱燕麥飲', '02廁所,03ATM,04座位區,05ibon WiFi,12行動電源租賃,19ibon,21現萃茶,22現蒸地瓜,36精品咖啡,39原賞熱壓土司,66冷凍交貨便', '02廁所,03ATM,04座位區,05ibon WiFi,12行動電源租賃,19ibon,21現萃茶,22現蒸地瓜,31博客來,36精品咖啡,37天素地蔬,66冷凍交貨便,08寵物生活專區,78拋棄式隱形眼鏡', '03ATM,04座位區,05ibon WiFi,12行動電源租賃,13台塑有機蔬菜,19ibon,22現蒸地瓜,36精品咖啡,37天素地蔬,66冷凍交貨便,33OPEN iECO循環杯,78拋棄式隱形眼鏡', '03ATM,12行動電源租賃,19ibon,21現萃茶,22現蒸地瓜,36精品咖啡,37天素地蔬,39原賞熱壓土司,66冷凍交貨便', '03ATM,12行動電源租賃,19ibon,21現萃茶,22現蒸地瓜,36精品咖啡,37天素地蔬,39原賞熱壓土司,66冷凍交貨便,34CITY系列熱燕麥飲,78拋棄式隱形眼鏡', '03ATM,04座位區,05ibon WiFi,12行動電源租賃,19ibon,21現萃茶,22現蒸地瓜,36精品咖啡,66冷凍交貨便', '03ATM,04座位區,05ibon WiFi,12行動電源租賃,19ibon,21現萃茶,22現蒸地瓜,36精品咖啡,37天素地蔬,39原賞熱壓土司,66冷凍交貨便,78拋棄式隱形眼鏡', '03ATM,05ibon WiFi,12行動電源租賃,19ibon,21現萃茶,36精品咖啡,66冷凍交貨便,78拋棄式隱形眼鏡', '02廁所,03ATM,04座位區,12行動電源租賃,19ibon,22現蒸地瓜,36精品咖啡,39原賞熱壓土司,66冷凍交貨便,33OPEN iECO循環杯,78拋棄式隱形眼鏡', '02廁所,03ATM,04座位區,12行動電源租賃,09OPEN! PLAZA專櫃,19ibon,21現萃茶,22現蒸地瓜,24霜淇淋,36精品咖啡,39原賞熱壓土司,66冷凍交貨便,08寵物生活專區', '02廁所,03ATM,12行動電源租賃,19ibon,22現蒸地瓜,36精品咖啡,08寵物生活專區', '03ATM,04座位區,05ibon WiFi,12行動電源租賃,19ibon,36精品咖啡,66冷凍交貨便', '03ATM,04座位區,05ibon WiFi,12行動電源租賃,19ibon,22現蒸地瓜,36精品咖啡,37天素地蔬,39原賞熱壓土司,66冷凍交貨便,08寵物生活專區,33OPEN iECO循環杯', '03ATM,04座位區,12行動電源租賃,19ibon,22現蒸地瓜,36精品咖啡,37天素地蔬,66冷凍交貨便', '03ATM,04座位區,05ibon WiFi,12行動電源租賃,19ibon,22現蒸地瓜,36精品咖啡,37天素地蔬,66冷凍交貨便', '03ATM,04座位區,05ibon WiFi,12行動電源租賃,13台塑有機蔬菜,19ibon,22現蒸地瓜,36精品咖啡,37天素地蔬,66冷凍交貨便', '03ATM,04座位區,19ibon,22現蒸地瓜,39原賞熱壓土司,66冷凍交貨便', '03ATM,05ibon WiFi,12行動電源租賃,16美妝,19ibon,22現蒸地瓜,36精品咖啡,66冷凍交貨便', '02廁所,03ATM,04座位區,05ibon WiFi,12行動電源租賃,19ibon,21現萃茶,22現蒸地瓜,31博客來,36精品咖啡,37天素地蔬,39原賞熱壓土司,66冷凍交貨便,34CITY系列熱燕麥飲', '03ATM,05ibon WiFi,12行動電源租賃,19ibon,36精品咖啡,39原賞熱壓土司,66冷凍交貨便,78拋棄式隱形眼鏡', '03ATM,04座位區,05ibon WiFi,12行動電源租賃,19ibon,21現萃茶,22現蒸地瓜,24霜淇淋,29聖娜麵包,36精品咖啡,37天素地蔬,39原賞熱壓土司,66冷凍交貨便,17甜點專櫃,33OPEN iECO循環杯,78拋棄式隱形眼鏡', '03ATM,12行動電源租賃,19ibon,21現萃茶,22現蒸地瓜,31博客來,36精品咖啡,66冷凍交貨便', '03ATM,04座位區,05ibon WiFi,12行動電源租賃,15Mister Donut甜甜圈,19ibon,21現萃茶,22現蒸地瓜,24霜淇淋,36精品咖啡,37天素地蔬,39原賞熱壓土司,66冷凍交貨便,78拋棄式隱形眼鏡', '03ATM,04座位區,19ibon,22現蒸地瓜,36精品咖啡,66冷凍交貨便,08寵物生活專區,78拋棄式隱形眼鏡', '03ATM,04座位區,05ibon WiFi,12行動電源租賃,19ibon,22現蒸地瓜,36精品咖啡,66冷凍交貨便', '03ATM,04座位區,05ibon WiFi,12行動電源租賃,09OPEN! PLAZA專櫃,16美妝,19ibon,22現蒸地瓜,36精品咖啡,37天素地蔬,39原賞熱壓土司,66冷凍交貨便', '03ATM,05ibon WiFi,12行動電源租賃,19ibon,21現萃茶,22現蒸地瓜,36精品咖啡,34CITY系列熱燕麥飲', '03ATM,04座位區,05ibon WiFi,12行動電源租賃,19ibon,22現蒸地瓜,36精品咖啡,39原賞熱壓土司,66冷凍交貨便', '03ATM,04座位區,05ibon WiFi,12行動電源租賃,19ibon,22現蒸地瓜,36精品咖啡,66冷凍交貨便,08寵物生活專區', '03ATM,04座位區,05ibon WiFi,12行動電源租賃,19ibon,36精品咖啡,37天素地蔬,66冷凍交貨便,33OPEN iECO循環杯', '03ATM,04座位區,12行動電源租賃,15Mister Donut甜甜圈,19ibon,21現萃茶,22現蒸地瓜,36精品咖啡,39原賞熱壓土司,66冷凍交貨便,08寵物生活專區,34CITY系列熱燕麥飲', '03ATM,05ibon WiFi,12行動電源租賃,19ibon,22現蒸地瓜,36精品咖啡', '03ATM,05ibon WiFi,12行動電源租賃,19ibon,21現萃茶,22現蒸地瓜,36精品咖啡,37天素地蔬,39原賞熱壓土司,66冷凍交貨便', '03ATM,05ibon WiFi,12行動電源租賃,19ibon,22現蒸地瓜,36精品咖啡,66冷凍交貨便', '03ATM,04座位區,12行動電源租賃,19ibon,22現蒸地瓜,36精品咖啡,37天素地蔬,39原賞熱壓土司,66冷凍交貨便,78拋棄式隱形眼鏡', '03ATM,05ibon WiFi,12行動電源租賃,19ibon,21現萃茶,22現蒸地瓜,36精品咖啡,37天素地蔬,39原賞熱壓土司,34CITY系列熱燕麥飲,78拋棄式隱形眼鏡', '03ATM,05ibon WiFi,07OPEN! STORE,12行動電源租賃,19ibon,21現萃茶,22現蒸地瓜,36精品咖啡,37天素地蔬,39原賞熱壓土司,66冷凍交貨便,34CITY系列熱燕麥飲', '03ATM,04座位區,05ibon WiFi,12行動電源租賃,15Mister Donut甜甜圈,19ibon,21現萃茶,22現蒸地瓜,36精品咖啡,66冷凍交貨便,08寵物生活專區,34CITY系列熱燕麥飲,78拋棄式隱形眼鏡', '03ATM,05ibon WiFi,12行動電源租賃,19ibon,22現蒸地瓜,37天素地蔬,39原賞熱壓土司,66冷凍交貨便', '03ATM,12行動電源租賃,19ibon,22現蒸地瓜,36精品咖啡,66冷凍交貨便', '03ATM,04座位區,12行動電源租賃,19ibon,21現萃茶,22現蒸地瓜,36精品咖啡,39原賞熱壓土司,66冷凍交貨便,78拋棄式隱形眼鏡', '02廁所,03ATM,04座位區,05ibon WiFi,12行動電源租賃,09OPEN! PLAZA專櫃,16美妝,19ibon,22現蒸地瓜,36精品咖啡,39原賞熱壓土司,66冷凍交貨便', '02廁所,03ATM,04座位區,05ibon WiFi,12行動電源租賃,09OPEN! PLAZA專櫃,19ibon,22現蒸地瓜,36精品咖啡,39原賞熱壓土司,66冷凍交貨便,08寵物生活專區', '03ATM,04座位區,05ibon WiFi,12行動電源租賃,19ibon,22現蒸地瓜,36精品咖啡,39原賞熱壓土司,66冷凍交貨便', '05ibon WiFi,12行動電源租賃,19ibon,21現萃茶,22現蒸地瓜,36精品咖啡,34CITY系列熱燕麥飲', '03ATM,04座位區,12行動電源租賃,19ibon,21現萃茶,22現蒸地瓜,36精品咖啡,37天素地蔬,39原賞熱壓土司,66冷凍交貨便,33OPEN iECO循環杯', '03ATM,04座位區,05ibon WiFi,12行動電源租賃,19ibon,22現蒸地瓜,36精品咖啡,66冷凍交貨便', '02廁所,03ATM,04座位區,05ibon WiFi,12行動電源租賃,19ibon,22現蒸地瓜,36精品咖啡,37天素地蔬,39原賞熱壓土司,66冷凍交貨便,17甜點專櫃,33OPEN iECO循環杯', '03ATM,04座位區,05ibon WiFi,12行動電源租賃,19ibon,22現蒸地瓜,36精品咖啡,66冷凍交貨便,08寵物生活專區', '03ATM,12行動電源租賃,19ibon,21現萃茶,36精品咖啡,66冷凍交貨便', '03ATM,04座位區,05ibon WiFi,12行動電源租賃,13台塑有機蔬菜,16美妝,19ibon,21現萃茶,22現蒸地瓜,29聖娜麵包,36精品咖啡,37天素地蔬,39原賞熱壓土司,66冷凍交貨便,20酒BAR,78拋棄式隱形眼鏡', '03ATM,05ibon WiFi,12行動電源租賃,19ibon,21現萃茶,22現蒸地瓜,36精品咖啡,66冷凍交貨便', '03ATM,12行動電源租賃,19ibon,21現萃茶,22現蒸地瓜,36精品咖啡,39原賞熱壓土司,66冷凍交貨便,34CITY系列熱燕麥飲', '03ATM,04座位區,05ibon WiFi,07OPEN! STORE,12行動電源租賃,19ibon,21現萃茶,22現蒸地瓜,36精品咖啡,66冷凍交貨便,78拋棄式隱形眼鏡', '03ATM,04座位區,05ibon WiFi,12行動電源租賃,19ibon,22現蒸地瓜,36精品咖啡,66冷凍交貨便', '02廁所,03ATM,04座位區,05ibon WiFi,12行動電源租賃,09OPEN! PLAZA專櫃,06思樂冰,13台塑有機蔬菜,19ibon,21現萃茶,22現蒸地瓜,29聖娜麵包,31博客來,36精品咖啡,37天素地蔬,39原賞熱壓土司,66冷凍交貨便,08寵物生活專區,78拋棄式隱形眼鏡', '02廁所,03ATM,04座位區,05ibon WiFi,12行動電源租賃,09OPEN! PLAZA專櫃,19ibon,22現蒸地瓜,31博客來,36精品咖啡,37天素地蔬,39原賞熱壓土司,66冷凍交貨便,34CITY系列熱燕麥飲', '03ATM,04座位區,12行動電源租賃,09OPEN! PLAZA專櫃,19ibon,22現蒸地瓜,36精品咖啡,39原賞熱壓土司,66冷凍交貨便', '02廁所,03ATM,04座位區,05ibon WiFi,12行動電源租賃,19ibon,22現蒸地瓜,36精品咖啡,39原賞熱壓土司,66冷凍交貨便,08寵物生活專區,78拋棄式隱形眼鏡', '03ATM,04座位區,05ibon WiFi,12行動電源租賃,19ibon,21現萃茶,22現蒸地瓜,36精品咖啡,37天素地蔬,66冷凍交貨便,34CITY系列熱燕麥飲,78拋棄式隱形眼鏡', '02廁所,03ATM,04座位區,12行動電源租賃,09OPEN! PLAZA專櫃,06思樂冰,19ibon,22現蒸地瓜,36精品咖啡,39原賞熱壓土司,66冷凍交貨便,78拋棄式隱形眼鏡', '02廁所,03ATM,04座位區,05ibon WiFi,12行動電源租賃,19ibon,21現萃茶,22現蒸地瓜,36精品咖啡,37天素地蔬,66冷凍交貨便', '02廁所,03ATM,04座位區,12行動電源租賃,09OPEN! PLAZA專櫃,19ibon,21現萃茶,22現蒸地瓜,29聖娜麵包,31博客來,36精品咖啡,39原賞熱壓土司,66冷凍交貨便,78拋棄式隱形眼鏡', '02廁所,03ATM,04座位區,12行動電源租賃,09OPEN! PLAZA專櫃,19ibon,22現蒸地瓜,36精品咖啡,37天素地蔬,39原賞熱壓土司,66冷凍交貨便,33OPEN iECO循環杯', '03ATM,12行動電源租賃,09OPEN! PLAZA專櫃,15Mister Donut甜甜圈,19ibon,21現萃茶,22現蒸地瓜,36精品咖啡,37天素地蔬,39原賞熱壓土司,66冷凍交貨便', '03ATM,05ibon WiFi,12行動電源租賃,09OPEN! PLAZA專櫃,19ibon,22現蒸地瓜,29聖娜麵包,36精品咖啡,68CITY CAFE氮氣飲品,39原賞熱壓土司,66冷凍交貨便,33OPEN iECO循環杯,78拋棄式隱形眼鏡', '03ATM,05ibon WiFi,12行動電源租賃,19ibon,22現蒸地瓜,36精品咖啡,66冷凍交貨便,08寵物生活專區,78拋棄式隱形眼鏡', '02廁所,03ATM,04座位區,05ibon WiFi,12行動電源租賃,16美妝,19ibon,21現萃茶,22現蒸地瓜,36精品咖啡,39原賞熱壓土司,66冷凍交貨便', '02廁所,03ATM,05ibon WiFi,12行動電源租賃,09OPEN! PLAZA專櫃,19ibon,21現萃茶,22現蒸地瓜,31博客來,36精品咖啡,37天素地蔬,66冷凍交貨便,08寵物生活專區,33OPEN iECO循環杯,78拋棄式隱形眼鏡', '02廁所,03ATM,05ibon WiFi,12行動電源租賃,09OPEN! PLAZA專櫃,19ibon,21現萃茶,22現蒸地瓜,36精品咖啡,37天素地蔬,39原賞熱壓土司,66冷凍交貨便,78拋棄式隱形眼鏡', '03ATM,04座位區,05ibon WiFi,12行動電源租賃,19ibon,21現萃茶,22現蒸地瓜,36精品咖啡,39原賞熱壓土司', '03ATM,04座位區,05ibon WiFi,12行動電源租賃,19ibon,22現蒸地瓜,36精品咖啡,66冷凍交貨便', '03ATM,05ibon WiFi,12行動電源租賃,19ibon,36精品咖啡,66冷凍交貨便', '02廁所,03ATM,04座位區,12行動電源租賃,19ibon,21現萃茶,22現蒸地瓜,36精品咖啡,39原賞熱壓土司,66冷凍交貨便,08寵物生活專區,33OPEN iECO循環杯,78拋棄式隱形眼鏡', '03ATM,12行動電源租賃,19ibon,22現蒸地瓜,36精品咖啡,37天素地蔬,39原賞熱壓土司,66冷凍交貨便', '02廁所,04座位區,05ibon WiFi,12行動電源租賃,19ibon,36精品咖啡,66冷凍交貨便,34CITY系列熱燕麥飲', '03ATM,04座位區,05ibon WiFi,12行動電源租賃,19ibon,22現蒸地瓜,36精品咖啡,39原賞熱壓土司,66冷凍交貨便,34CITY系列熱燕麥飲,78拋棄式隱形眼鏡', '03ATM,04座位區,05ibon WiFi,12行動電源租賃,19ibon,22現蒸地瓜,36精品咖啡,39原賞熱壓土司,66冷凍交貨便', '02廁所,03ATM,04座位區,05ibon WiFi,12行動電源租賃,19ibon,36精品咖啡,68CITY CAFE氮氣飲品,66冷凍交貨便,33OPEN iECO循環杯', '03ATM,04座位區,05ibon WiFi,12行動電源租賃,19ibon,21現萃茶,22現蒸地瓜,36精品咖啡,37天素地蔬,39原賞熱壓土司,66冷凍交貨便,08寵物生活專區,34CITY系列熱燕麥飲,78拋棄式隱形眼鏡', '02廁所,03ATM,04座位區,05ibon WiFi,12行動電源租賃,09OPEN! PLAZA專櫃,13台塑有機蔬菜,19ibon,21現萃茶,22現蒸地瓜,36精品咖啡,37天素地蔬,39原賞熱壓土司,66冷凍交貨便,33OPEN iECO循環杯,78拋棄式隱形眼鏡', '03ATM,04座位區,05ibon WiFi,12行動電源租賃,19ibon,22現蒸地瓜,36精品咖啡,37天素地蔬,39原賞熱壓土司,66冷凍交貨便,08寵物生活專區,78拋棄式隱形眼鏡', '03ATM,05ibon WiFi,12行動電源租賃,19ibon,36精品咖啡,66冷凍交貨便,78拋棄式隱形眼鏡', '03ATM,04座位區,05ibon WiFi,12行動電源租賃,19ibon,22現蒸地瓜,36精品咖啡,66冷凍交貨便', '02廁所,03ATM,04座位區,12行動電源租賃,19ibon,21現萃茶,22現蒸地瓜,36精品咖啡,37天素地蔬,39原賞熱壓土司,66冷凍交貨便,78拋棄式隱形眼鏡', '03ATM,04座位區,05ibon WiFi,12行動電源租賃,19ibon,36精品咖啡', '02廁所,03ATM,04座位區,05ibon WiFi,12行動電源租賃,19ibon,22現蒸地瓜,36精品咖啡,37天素地蔬,39原賞熱壓土司,66冷凍交貨便,78拋棄式隱形眼鏡', '03ATM,12行動電源租賃,19ibon,22現蒸地瓜,36精品咖啡,66冷凍交貨便,33OPEN iECO循環杯', '03ATM,04座位區,05ibon WiFi,12行動電源租賃,19ibon,22現蒸地瓜,36精品咖啡,39原賞熱壓土司,66冷凍交貨便,78拋棄式隱形眼鏡', '03ATM,04座位區,05ibon WiFi,12行動電源租賃,09OPEN! PLAZA專櫃,19ibon,21現萃茶,22現蒸地瓜,36精品咖啡,39原賞熱壓土司,66冷凍交貨便,33OPEN iECO循環杯', '03ATM,04座位區,05ibon WiFi,12行動電源租賃,13台塑有機蔬菜,19ibon,22現蒸地瓜,24霜淇淋,29聖娜麵包,36精品咖啡,37天素地蔬,39原賞熱壓土司,66冷凍交貨便,17甜點專櫃,34CITY系列熱燕麥飲,33OPEN iECO循環杯,78拋棄式隱形眼鏡', '03ATM,04座位區,05ibon WiFi,12行動電源租賃,19ibon,36精品咖啡,39原賞熱壓土司,66冷凍交貨便', '03ATM,12行動電源租賃,19ibon,22現蒸地瓜,36精品咖啡,66冷凍交貨便,17甜點專櫃', '03ATM,05ibon WiFi,12行動電源租賃,19ibon,21現萃茶,22現蒸地瓜,36精品咖啡,39原賞熱壓土司,66冷凍交貨便,34CITY系列熱燕麥飲', '03ATM,05ibon WiFi,12行動電源租賃,19ibon,36精品咖啡,39原賞熱壓土司,66冷凍交貨便,78拋棄式隱形眼鏡', '03ATM,04座位區,12行動電源租賃,19ibon,21現萃茶,22現蒸地瓜,31博客來,36精品咖啡,39原賞熱壓土司,66冷凍交貨便,33OPEN iECO循環杯,78拋棄式隱形眼鏡', '02廁所,03ATM,04座位區,05ibon WiFi,12行動電源租賃,13台塑有機蔬菜,19ibon,21現萃茶,22現蒸地瓜,36精品咖啡,66冷凍交貨便,20酒BAR,08寵物生活專區,78拋棄式隱形眼鏡', '02廁所,03ATM,04座位區,12行動電源租賃,19ibon,21現萃茶,22現蒸地瓜,36精品咖啡,37天素地蔬,39原賞熱壓土司,66冷凍交貨便', '03ATM,04座位區,12行動電源租賃,19ibon,22現蒸地瓜,36精品咖啡,66冷凍交貨便', '03ATM,12行動電源租賃,19ibon,22現蒸地瓜,36精品咖啡,39原賞熱壓土司,66冷凍交貨便,34CITY系列熱燕麥飲', '02廁所,03ATM,04座位區,12行動電源租賃,19ibon,21現萃茶,22現蒸地瓜,36精品咖啡,37天素地蔬,39原賞熱壓土司,66冷凍交貨便,78拋棄式隱形眼鏡', '03ATM,12行動電源租賃,19ibon,22現蒸地瓜,2821TOGO,36精品咖啡,37天素地蔬,39原賞熱壓土司,66冷凍交貨便,34CITY系列熱燕麥飲']\n"
     ]
    }
   ],
   "source": [
    "# The XPath for StoreImageTitles\n",
    "store_image_titles = [e.text for e in root.findall('.//StoreImageTitle')]\n",
    "print(store_image_titles)"
   ]
  },
  {
   "cell_type": "code",
   "execution_count": 16,
   "metadata": {
    "slideshow": {
     "slide_type": "subslide"
    }
   },
   "outputs": [
    {
     "name": "stdout",
     "output_type": "stream",
     "text": [
      "和鑫:台北市大安區和平東路三段38號1樓\n",
      "長星:台北市大安區基隆路三段85號\n",
      "信中:台北市大安區信義路三段99號1樓\n",
      "濟南:台北市大安區濟南路三段12號1樓\n"
     ]
    }
   ],
   "source": [
    "for poiname, address, store_image_title in zip(poinames, addresses, store_image_titles):\n",
    "    if \"霜淇淋\" in store_image_title:\n",
    "        print(f\"{poiname}:{address}\")"
   ]
  },
  {
   "cell_type": "markdown",
   "metadata": {
    "slideshow": {
     "slide_type": "slide"
    }
   },
   "source": [
    "## HTML format"
   ]
  },
  {
   "cell_type": "markdown",
   "metadata": {
    "slideshow": {
     "slide_type": "subslide"
    }
   },
   "source": [
    "## What is HTML?\n",
    "\n",
    "> HTML (HyperText Markup Language) is a descriptive language that specifies webpage structure. An HTML document is a plaintext document structured with elements. Elements are surrounded by matching opening and closing tags. Each tag begins and ends with angle brackets (<>).\n",
    "\n",
    "Source: <https://developer.mozilla.org/en-US/docs/Glossary/HTML>"
   ]
  },
  {
   "cell_type": "markdown",
   "metadata": {
    "slideshow": {
     "slide_type": "subslide"
    }
   },
   "source": [
    "## How to validate if a response belongs to HTML format?\n",
    "\n",
    "Looking into Response(body) and check if there is a HTML format being declared."
   ]
  },
  {
   "cell_type": "markdown",
   "metadata": {
    "slideshow": {
     "slide_type": "subslide"
    }
   },
   "source": [
    "## HTML exists as a string\n",
    "\n",
    "Predefined tags with a hierarchical tree layout."
   ]
  },
  {
   "cell_type": "markdown",
   "metadata": {
    "slideshow": {
     "slide_type": "subslide"
    }
   },
   "source": [
    "## Let's see how a HTML format looks like\n",
    "\n",
    "<https://www.imdb.com/chart/top>: Data still exists after turning JavaScript off, check **Doc**."
   ]
  },
  {
   "cell_type": "code",
   "execution_count": 17,
   "metadata": {},
   "outputs": [],
   "source": [
    "request_url = \"https://www.imdb.com/chart/top\"\n",
    "response = requests.get(request_url,\n",
    "                        headers={\"accept-language\": \"en-US,en;q=1.0\",\n",
    "                                 \"User-Agent\": \"Mozilla/5.0 (Macintosh; Intel Mac OS X 10_15_7) AppleWebKit/537.36 (KHTML, like Gecko) Chrome/120.0.0.0 Safari/537.36\"})"
   ]
  },
  {
   "cell_type": "markdown",
   "metadata": {
    "slideshow": {
     "slide_type": "subslide"
    }
   },
   "source": [
    "## Use the `BeautifulSoup` function from `bs4` to get the parsed structure"
   ]
  },
  {
   "cell_type": "code",
   "execution_count": 18,
   "metadata": {},
   "outputs": [
    {
     "name": "stdout",
     "output_type": "stream",
     "text": [
      "<class 'bs4.BeautifulSoup'>\n"
     ]
    }
   ],
   "source": [
    "soup = BeautifulSoup(response.text)\n",
    "print(type(soup))"
   ]
  },
  {
   "cell_type": "markdown",
   "metadata": {
    "slideshow": {
     "slide_type": "subslide"
    }
   },
   "source": [
    "## Use CSS Selector to extract data from specific tags\n",
    "\n",
    "> A CSS selector is the part of a CSS rule that describes what elements in a document the rule will match. The matching elements will have the rule's specified style applied to them.\n",
    "\n",
    "Source: <https://developer.mozilla.org/en-US/docs/Glossary/CSS_Selector>"
   ]
  },
  {
   "cell_type": "markdown",
   "metadata": {
    "slideshow": {
     "slide_type": "subslide"
    }
   },
   "source": [
    "## A CSS selector can be mixed and matched with\n",
    "\n",
    "1. Tag names.\n",
    "2. Class attribute in tags.\n",
    "3. Id attribute in tags."
   ]
  },
  {
   "cell_type": "markdown",
   "metadata": {
    "slideshow": {
     "slide_type": "subslide"
    }
   },
   "source": [
    "## How to specify a CSS selector\n",
    "\n",
    "<https://www.w3schools.com/cssref/css_selectors.asp>"
   ]
  },
  {
   "cell_type": "code",
   "execution_count": 19,
   "metadata": {
    "slideshow": {
     "slide_type": "subslide"
    }
   },
   "outputs": [
    {
     "name": "stdout",
     "output_type": "stream",
     "text": [
      "['The Shawshank Redemption', 'The Godfather', 'The Dark Knight', 'The Godfather Part II', '12 Angry Men', \"Schindler's List\", 'The Lord of the Rings: The Return of the King', 'Pulp Fiction', 'The Lord of the Rings: The Fellowship of the Ring', 'The Good, the Bad and the Ugly', 'Forrest Gump', 'Fight Club', 'The Lord of the Rings: The Two Towers', 'Inception', 'Star Wars: Episode V - The Empire Strikes Back', 'The Matrix', 'Goodfellas', \"One Flew Over the Cuckoo's Nest\", 'Se7en', \"It's a Wonderful Life\", 'Seven Samurai', 'Interstellar', 'The Silence of the Lambs', 'Saving Private Ryan', 'City of God', 'Life Is Beautiful', 'The Green Mile', 'Spider-Man: Across the Spider-Verse', 'Star Wars: Episode IV - A New Hope', 'Terminator 2: Judgment Day', 'Back to the Future', 'Spirited Away', 'The Pianist', 'Psycho', 'Parasite', 'Gladiator', 'The Lion King', 'Léon: The Professional', 'American History X', 'The Departed', 'Whiplash', 'The Prestige', 'Grave of the Fireflies', 'The Usual Suspects', 'Harakiri', 'Casablanca', 'The Intouchables', 'Modern Times', 'Cinema Paradiso', 'Once Upon a Time in the West', 'Rear Window', 'Alien', 'City Lights', 'Apocalypse Now', 'Django Unchained', 'Memento', 'Raiders of the Lost Ark', 'WALL·E', 'The Lives of Others', 'Sunset Blvd.', 'Paths of Glory', 'Avengers: Infinity War', 'The Shining', 'Spider-Man: Into the Spider-Verse', 'Witness for the Prosecution', 'The Great Dictator', 'Oppenheimer', 'Aliens', 'Inglourious Basterds', 'The Dark Knight Rises', 'American Beauty', 'Dr', 'Oldboy', 'Coco', 'Amadeus', 'Toy Story', 'Das Boot', 'Braveheart', 'Avengers: Endgame', 'Joker', 'Princess Mononoke', 'Good Will Hunting', 'Your Name.', 'Once Upon a Time in America', 'High and Low', '3 Idiots', \"Singin' in the Rain\", 'Capernaum', 'Requiem for a Dream', 'Come and See', 'Toy Story 3', 'Star Wars: Episode VI - Return of the Jedi', 'Eternal Sunshine of the Spotless Mind', '2001: A Space Odyssey', 'The Hunt', 'Reservoir Dogs', 'Ikiru', 'Lawrence of Arabia', 'The Apartment', 'Citizen Kane', 'M', 'North by Northwest', 'Vertigo', 'Double Indemnity', 'Scarface', 'Amélie', 'Full Metal Jacket', 'Incendies', 'A Clockwork Orange', 'Heat', 'Up', 'To Kill a Mockingbird', 'The Sting', 'Hamilton', 'A Separation', 'Indiana Jones and the Last Crusade', 'Metropolis', 'Die Hard', 'Like Stars on Earth', 'Snatch', 'L.A', 'Bicycle Thieves', '1917', 'Taxi Driver', 'Downfall', 'Dangal', 'For a Few Dollars More', 'Batman Begins', 'Top Gun: Maverick', 'Some Like It Hot', 'The Kid', 'The Wolf of Wall Street', 'The Father', 'Green Book', 'All About Eve', 'Judgment at Nuremberg', 'The Truman Show', 'There Will Be Blood', 'Casino', 'Shutter Island', 'Ran', \"Pan's Labyrinth\", 'Jurassic Park', 'The Sixth Sense', 'Unforgiven', 'A Beautiful Mind', 'No Country for Old Men', 'The Treasure of the Sierra Madre', 'Yojimbo', 'Kill Bill: Vol', 'The Thing', 'Monty Python and the Holy Grail', 'The Great Escape', 'Finding Nemo', 'Rashomon', 'The Elephant Man', 'Chinatown', \"Howl's Moving Castle\", 'Dial M for Murder', 'Gone with the Wind', 'Prisoners', 'V for Vendetta', 'Raging Bull', 'Lock, Stock and Two Smoking Barrels', 'The Secret in Their Eyes', 'Inside Out', 'Spider-Man: No Way Home', 'Three Billboards Outside Ebbing, Missouri', 'Trainspotting', 'The Bridge on the River Kwai', 'Fargo', 'Warrior', 'Catch Me If You Can', 'Gran Torino', 'Klaus', 'My Neighbor Totoro', 'Million Dollar Baby', 'Harry Potter and the Deathly Hallows: Part 2', 'Children of Heaven', 'Blade Runner', '12 Years a Slave', 'Before Sunrise', 'The Grand Budapest Hotel', 'Ben-Hur', 'Barry Lyndon', 'The Gold Rush', 'Gone Girl', 'Hacksaw Ridge', 'In the Name of the Father', 'On the Waterfront', 'Memories of Murder', 'The General', 'The Deer Hunter', 'Wild Strawberries', 'Wild Tales', 'Dead Poets Society', 'The Third Man', 'The Wages of Fear', 'Mad Max: Fury Road', 'Sherlock Jr.', 'Monsters, Inc.', 'Mr', 'Jaws', 'How to Train Your Dragon', 'Mary and Max', 'Ford v Ferrari', 'The Seventh Seal', 'Room', 'The Big Lebowski', 'Ratatouille', 'Tokyo Story', 'Rocky', 'Hotel Rwanda', 'Logan', 'Spotlight', 'Platoon', 'The Passion of Joan of Arc', 'The Terminator', 'Jai Bhim', 'Before Sunset', 'Rush', 'Network', 'The Best Years of Our Lives', 'The Exorcist', 'Stand by Me', 'La haine', 'Pirates of the Caribbean: The Curse of the Black Pearl', 'The Wizard of Oz', 'The Incredibles', 'Into the Wild', \"Hachi: A Dog's Tale\", 'The Handmaiden', 'To Be or Not to Be', 'My Father and My Son', 'The Battle of Algiers', 'Groundhog Day', 'The Grapes of Wrath', 'Amores Perros', 'The Sound of Music', 'Rebecca', 'Cool Hand Luke', 'The Iron Giant', 'The Help', 'It Happened One Night', 'Pather Panchali', 'The 400 Blows', 'Aladdin', 'Dances with Wolves', 'Persona', 'Life of Brian']\n",
      "250\n"
     ]
    }
   ],
   "source": [
    "titles = [e.text.split(\". \")[1] for e in soup.select('li div > a > h3')] # The CSS Selector for titles\n",
    "print(titles)\n",
    "print(len(titles))"
   ]
  },
  {
   "cell_type": "code",
   "execution_count": 20,
   "metadata": {
    "slideshow": {
     "slide_type": "subslide"
    }
   },
   "outputs": [
    {
     "name": "stdout",
     "output_type": "stream",
     "text": [
      "[9.3, 9.2, 9.0, 9.0, 9.0, 9.0, 9.0, 8.9, 8.8, 8.8, 8.8, 8.8, 8.8, 8.8, 8.7, 8.7, 8.7, 8.7, 8.6, 8.6, 8.6, 8.7, 8.6, 8.6, 8.6, 8.6, 8.6, 8.7, 8.6, 8.6, 8.5, 8.6, 8.5, 8.5, 8.5, 8.5, 8.5, 8.5, 8.5, 8.5, 8.5, 8.5, 8.5, 8.5, 8.6, 8.5, 8.5, 8.5, 8.5, 8.5, 8.5, 8.5, 8.5, 8.4, 8.5, 8.4, 8.4, 8.4, 8.4, 8.4, 8.4, 8.4, 8.4, 8.4, 8.4, 8.4, 8.4, 8.4, 8.4, 8.4, 8.3, 8.4, 8.4, 8.4, 8.4, 8.3, 8.4, 8.3, 8.4, 8.4, 8.3, 8.3, 8.4, 8.3, 8.4, 8.4, 8.3, 8.4, 8.3, 8.4, 8.3, 8.3, 8.3, 8.3, 8.3, 8.3, 8.3, 8.3, 8.3, 8.3, 8.3, 8.3, 8.3, 8.3, 8.3, 8.3, 8.3, 8.3, 8.3, 8.3, 8.3, 8.3, 8.3, 8.3, 8.3, 8.2, 8.3, 8.2, 8.3, 8.2, 8.2, 8.3, 8.2, 8.2, 8.2, 8.3, 8.2, 8.2, 8.3, 8.2, 8.2, 8.2, 8.2, 8.2, 8.2, 8.3, 8.2, 8.2, 8.2, 8.2, 8.2, 8.2, 8.2, 8.2, 8.2, 8.2, 8.2, 8.2, 8.2, 8.2, 8.2, 8.2, 8.2, 8.2, 8.2, 8.2, 8.2, 8.2, 8.2, 8.2, 8.1, 8.2, 8.1, 8.1, 8.2, 8.1, 8.2, 8.1, 8.1, 8.1, 8.1, 8.1, 8.1, 8.1, 8.2, 8.1, 8.1, 8.1, 8.2, 8.1, 8.1, 8.1, 8.1, 8.1, 8.1, 8.1, 8.1, 8.1, 8.1, 8.1, 8.1, 8.1, 8.1, 8.1, 8.1, 8.1, 8.1, 8.2, 8.1, 8.2, 8.1, 8.1, 8.1, 8.1, 8.1, 8.1, 8.1, 8.1, 8.1, 8.1, 8.1, 8.1, 8.1, 8.1, 8.1, 8.1, 8.1, 8.1, 8.7, 8.1, 8.1, 8.1, 8.1, 8.1, 8.1, 8.1, 8.1, 8.1, 8.0, 8.1, 8.1, 8.1, 8.2, 8.2, 8.1, 8.0, 8.1, 8.1, 8.1, 8.1, 8.1, 8.1, 8.1, 8.1, 8.2, 8.1, 8.0, 8.0, 8.1, 8.0]\n",
      "250\n"
     ]
    }
   ],
   "source": [
    "ratings = [float(e.text.split(\"\\xa0\")[0]) for e in soup.select('ul li span > div > span')] # The CSS Selector for ratings\n",
    "print(ratings)\n",
    "print(len(ratings))"
   ]
  },
  {
   "cell_type": "code",
   "execution_count": 21,
   "metadata": {
    "slideshow": {
     "slide_type": "subslide"
    }
   },
   "outputs": [
    {
     "name": "stdout",
     "output_type": "stream",
     "text": [
      "[1994, 1972, 2008, 1974, 1957, 1993, 2003, 1994, 2001, 1966, 1994, 1999, 2002, 2010, 1980, 1999, 1990, 1975, 1995, 1946, 1954, 2014, 1991, 1998, 2002, 1997, 1999, 2023, 1977, 1991, 1985, 2001, 2002, 1960, 2019, 2000, 1994, 1994, 1998, 2006, 2014, 2006, 1988, 1995, 1962, 1942, 2011, 1936, 1988, 1968, 1954, 1979, 1931, 1979, 2012, 2000, 1981, 2008, 2006, 1950, 1957, 2018, 1980, 2018, 1957, 1940, 2023, 1986, 2009, 2012, 1999, 1964, 2003, 2017, 1984, 1995, 1981, 1995, 2019, 2019, 1997, 1997, 2016, 1984, 1963, 2009, 1952, 2018, 2000, 1985, 2010, 1983, 2004, 1968, 2012, 1992, 1952, 1962, 1960, 1941, 1931, 1959, 1958, 1944, 1983, 2001, 1987, 2010, 1971, 1995, 2009, 1962, 1973, 2020, 2011, 1989, 1927, 1988, 2007, 2000, 1997, 1948, 2019, 1976, 2004, 2016, 1965, 2005, 2022, 1959, 1921, 2013, 2020, 2018, 1950, 1961, 1998, 2007, 1995, 2010, 1985, 2006, 1993, 1999, 1992, 2001, 2007, 1948, 1961, 2003, 1982, 1975, 1963, 2003, 1950, 1980, 1974, 2004, 1954, 1939, 2013, 2005, 1980, 1998, 2009, 2015, 2021, 2017, 1996, 1957, 1996, 2011, 2002, 2008, 2019, 1988, 2004, 2011, 1997, 1982, 2013, 1995, 2014, 1959, 1975, 1925, 2014, 2016, 1993, 1954, 2003, 1926, 1978, 1957, 2014, 1989, 1949, 1953, 2015, 1924, 2001, 1939, 1975, 2010, 2009, 2019, 1957, 2015, 1998, 2007, 1953, 1976, 2004, 2017, 2015, 1986, 1928, 1984, 2021, 2004, 2013, 1976, 1946, 1973, 1986, 1995, 2003, 1939, 2004, 2007, 2009, 2016, 1942, 2005, 1966, 1993, 1940, 2000, 1965, 1940, 1967, 1999, 2011, 1934, 1955, 1959, 1992, 1990, 1966, 1979]\n",
      "250\n"
     ]
    }
   ],
   "source": [
    "release_years = [int(e.text) for e in soup.select('ul > li > div > div > div > div > span:nth-child(1)')] # The CSS Selector for release years\n",
    "print(release_years)\n",
    "print(len(release_years))"
   ]
  }
 ],
 "metadata": {
  "celltoolbar": "Slideshow",
  "kernelspec": {
   "display_name": "Python 3 (ipykernel)",
   "language": "python",
   "name": "python3"
  },
  "language_info": {
   "codemirror_mode": {
    "name": "ipython",
    "version": 3
   },
   "file_extension": ".py",
   "mimetype": "text/x-python",
   "name": "python",
   "nbconvert_exporter": "python",
   "pygments_lexer": "ipython3",
   "version": "3.11.4"
  }
 },
 "nbformat": 4,
 "nbformat_minor": 4
}
